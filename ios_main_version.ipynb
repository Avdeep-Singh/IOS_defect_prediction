{
  "nbformat": 4,
  "nbformat_minor": 0,
  "metadata": {
    "colab": {
      "provenance": []
    },
    "kernelspec": {
      "name": "python3",
      "display_name": "Python 3"
    },
    "language_info": {
      "name": "python"
    }
  },
  "cells": [
    {
      "cell_type": "code",
      "source": [
        "!pip freeze > requirements.txt"
      ],
      "metadata": {
        "id": "sWuJX7TkTjSm"
      },
      "execution_count": null,
      "outputs": []
    },
    {
      "cell_type": "code",
      "source": [
        "\n",
        "import pandas as pd\n",
        "\n",
        "master_data = pd.read_csv('ios.csv',sep=',', encoding='latin-1')\n",
        "print('data shape: ', master_data.shape)\n",
        "master_data.head()\n",
        "\n"
      ],
      "metadata": {
        "colab": {
          "base_uri": "https://localhost:8080/",
          "height": 334
        },
        "id": "oZ8LVKF7gJw5",
        "outputId": "4794d936-8f27-4de1-ccb6-047ad4a5f3e0"
      },
      "execution_count": null,
      "outputs": [
        {
          "output_type": "stream",
          "name": "stdout",
          "text": [
            "data shape:  (143, 56)\n"
          ]
        },
        {
          "output_type": "execute_result",
          "data": {
            "text/plain": [
              "  ios version  MMS_sending  Battery  phone_freez_crash  app compatibility  \\\n",
              "0           3          1.0      1.0                1.0                1.0   \n",
              "1         3.1          1.0      1.0                NaN                NaN   \n",
              "2       3.1.2          1.0      1.0                NaN                NaN   \n",
              "3       3.1.3          NaN      1.0                NaN                NaN   \n",
              "4         3.2          NaN      1.0                NaN                NaN   \n",
              "\n",
              "   syncing  bluetooth  app crash  slow performence  security_vulnerabilities  \\\n",
              "0      1.0        1.0        1.0               1.0                       1.0   \n",
              "1      1.0        NaN        1.0               1.0                       NaN   \n",
              "2      1.0        NaN        1.0               NaN                       NaN   \n",
              "3      1.0        NaN        1.0               NaN                       NaN   \n",
              "4      NaN        NaN        1.0               NaN                       NaN   \n",
              "\n",
              "   ...  auto_correct  notification  apple_pay  icloud  charging_issue  \\\n",
              "0  ...           NaN           NaN        NaN     NaN             NaN   \n",
              "1  ...           NaN           NaN        NaN     NaN             NaN   \n",
              "2  ...           NaN           NaN        NaN     NaN             NaN   \n",
              "3  ...           NaN           NaN        NaN     NaN             NaN   \n",
              "4  ...           NaN           NaN        NaN     NaN             NaN   \n",
              "\n",
              "   face_id  voicemail  home_pod  ios_version  total_bugs  \n",
              "0      NaN        NaN       NaN         3.00           8  \n",
              "1      NaN        NaN       NaN         3.10           6  \n",
              "2      NaN        NaN       NaN         3.12           4  \n",
              "3      NaN        NaN       NaN         3.13           6  \n",
              "4      NaN        NaN       NaN         3.20           5  \n",
              "\n",
              "[5 rows x 56 columns]"
            ],
            "text/html": [
              "\n",
              "  <div id=\"df-7839858a-2d27-4eae-b55e-4e5a9217ecaa\">\n",
              "    <div class=\"colab-df-container\">\n",
              "      <div>\n",
              "<style scoped>\n",
              "    .dataframe tbody tr th:only-of-type {\n",
              "        vertical-align: middle;\n",
              "    }\n",
              "\n",
              "    .dataframe tbody tr th {\n",
              "        vertical-align: top;\n",
              "    }\n",
              "\n",
              "    .dataframe thead th {\n",
              "        text-align: right;\n",
              "    }\n",
              "</style>\n",
              "<table border=\"1\" class=\"dataframe\">\n",
              "  <thead>\n",
              "    <tr style=\"text-align: right;\">\n",
              "      <th></th>\n",
              "      <th>ios version</th>\n",
              "      <th>MMS_sending</th>\n",
              "      <th>Battery</th>\n",
              "      <th>phone_freez_crash</th>\n",
              "      <th>app compatibility</th>\n",
              "      <th>syncing</th>\n",
              "      <th>bluetooth</th>\n",
              "      <th>app crash</th>\n",
              "      <th>slow performence</th>\n",
              "      <th>security_vulnerabilities</th>\n",
              "      <th>...</th>\n",
              "      <th>auto_correct</th>\n",
              "      <th>notification</th>\n",
              "      <th>apple_pay</th>\n",
              "      <th>icloud</th>\n",
              "      <th>charging_issue</th>\n",
              "      <th>face_id</th>\n",
              "      <th>voicemail</th>\n",
              "      <th>home_pod</th>\n",
              "      <th>ios_version</th>\n",
              "      <th>total_bugs</th>\n",
              "    </tr>\n",
              "  </thead>\n",
              "  <tbody>\n",
              "    <tr>\n",
              "      <th>0</th>\n",
              "      <td>3</td>\n",
              "      <td>1.0</td>\n",
              "      <td>1.0</td>\n",
              "      <td>1.0</td>\n",
              "      <td>1.0</td>\n",
              "      <td>1.0</td>\n",
              "      <td>1.0</td>\n",
              "      <td>1.0</td>\n",
              "      <td>1.0</td>\n",
              "      <td>1.0</td>\n",
              "      <td>...</td>\n",
              "      <td>NaN</td>\n",
              "      <td>NaN</td>\n",
              "      <td>NaN</td>\n",
              "      <td>NaN</td>\n",
              "      <td>NaN</td>\n",
              "      <td>NaN</td>\n",
              "      <td>NaN</td>\n",
              "      <td>NaN</td>\n",
              "      <td>3.00</td>\n",
              "      <td>8</td>\n",
              "    </tr>\n",
              "    <tr>\n",
              "      <th>1</th>\n",
              "      <td>3.1</td>\n",
              "      <td>1.0</td>\n",
              "      <td>1.0</td>\n",
              "      <td>NaN</td>\n",
              "      <td>NaN</td>\n",
              "      <td>1.0</td>\n",
              "      <td>NaN</td>\n",
              "      <td>1.0</td>\n",
              "      <td>1.0</td>\n",
              "      <td>NaN</td>\n",
              "      <td>...</td>\n",
              "      <td>NaN</td>\n",
              "      <td>NaN</td>\n",
              "      <td>NaN</td>\n",
              "      <td>NaN</td>\n",
              "      <td>NaN</td>\n",
              "      <td>NaN</td>\n",
              "      <td>NaN</td>\n",
              "      <td>NaN</td>\n",
              "      <td>3.10</td>\n",
              "      <td>6</td>\n",
              "    </tr>\n",
              "    <tr>\n",
              "      <th>2</th>\n",
              "      <td>3.1.2</td>\n",
              "      <td>1.0</td>\n",
              "      <td>1.0</td>\n",
              "      <td>NaN</td>\n",
              "      <td>NaN</td>\n",
              "      <td>1.0</td>\n",
              "      <td>NaN</td>\n",
              "      <td>1.0</td>\n",
              "      <td>NaN</td>\n",
              "      <td>NaN</td>\n",
              "      <td>...</td>\n",
              "      <td>NaN</td>\n",
              "      <td>NaN</td>\n",
              "      <td>NaN</td>\n",
              "      <td>NaN</td>\n",
              "      <td>NaN</td>\n",
              "      <td>NaN</td>\n",
              "      <td>NaN</td>\n",
              "      <td>NaN</td>\n",
              "      <td>3.12</td>\n",
              "      <td>4</td>\n",
              "    </tr>\n",
              "    <tr>\n",
              "      <th>3</th>\n",
              "      <td>3.1.3</td>\n",
              "      <td>NaN</td>\n",
              "      <td>1.0</td>\n",
              "      <td>NaN</td>\n",
              "      <td>NaN</td>\n",
              "      <td>1.0</td>\n",
              "      <td>NaN</td>\n",
              "      <td>1.0</td>\n",
              "      <td>NaN</td>\n",
              "      <td>NaN</td>\n",
              "      <td>...</td>\n",
              "      <td>NaN</td>\n",
              "      <td>NaN</td>\n",
              "      <td>NaN</td>\n",
              "      <td>NaN</td>\n",
              "      <td>NaN</td>\n",
              "      <td>NaN</td>\n",
              "      <td>NaN</td>\n",
              "      <td>NaN</td>\n",
              "      <td>3.13</td>\n",
              "      <td>6</td>\n",
              "    </tr>\n",
              "    <tr>\n",
              "      <th>4</th>\n",
              "      <td>3.2</td>\n",
              "      <td>NaN</td>\n",
              "      <td>1.0</td>\n",
              "      <td>NaN</td>\n",
              "      <td>NaN</td>\n",
              "      <td>NaN</td>\n",
              "      <td>NaN</td>\n",
              "      <td>1.0</td>\n",
              "      <td>NaN</td>\n",
              "      <td>NaN</td>\n",
              "      <td>...</td>\n",
              "      <td>NaN</td>\n",
              "      <td>NaN</td>\n",
              "      <td>NaN</td>\n",
              "      <td>NaN</td>\n",
              "      <td>NaN</td>\n",
              "      <td>NaN</td>\n",
              "      <td>NaN</td>\n",
              "      <td>NaN</td>\n",
              "      <td>3.20</td>\n",
              "      <td>5</td>\n",
              "    </tr>\n",
              "  </tbody>\n",
              "</table>\n",
              "<p>5 rows × 56 columns</p>\n",
              "</div>\n",
              "      <button class=\"colab-df-convert\" onclick=\"convertToInteractive('df-7839858a-2d27-4eae-b55e-4e5a9217ecaa')\"\n",
              "              title=\"Convert this dataframe to an interactive table.\"\n",
              "              style=\"display:none;\">\n",
              "        \n",
              "  <svg xmlns=\"http://www.w3.org/2000/svg\" height=\"24px\"viewBox=\"0 0 24 24\"\n",
              "       width=\"24px\">\n",
              "    <path d=\"M0 0h24v24H0V0z\" fill=\"none\"/>\n",
              "    <path d=\"M18.56 5.44l.94 2.06.94-2.06 2.06-.94-2.06-.94-.94-2.06-.94 2.06-2.06.94zm-11 1L8.5 8.5l.94-2.06 2.06-.94-2.06-.94L8.5 2.5l-.94 2.06-2.06.94zm10 10l.94 2.06.94-2.06 2.06-.94-2.06-.94-.94-2.06-.94 2.06-2.06.94z\"/><path d=\"M17.41 7.96l-1.37-1.37c-.4-.4-.92-.59-1.43-.59-.52 0-1.04.2-1.43.59L10.3 9.45l-7.72 7.72c-.78.78-.78 2.05 0 2.83L4 21.41c.39.39.9.59 1.41.59.51 0 1.02-.2 1.41-.59l7.78-7.78 2.81-2.81c.8-.78.8-2.07 0-2.86zM5.41 20L4 18.59l7.72-7.72 1.47 1.35L5.41 20z\"/>\n",
              "  </svg>\n",
              "      </button>\n",
              "      \n",
              "  <style>\n",
              "    .colab-df-container {\n",
              "      display:flex;\n",
              "      flex-wrap:wrap;\n",
              "      gap: 12px;\n",
              "    }\n",
              "\n",
              "    .colab-df-convert {\n",
              "      background-color: #E8F0FE;\n",
              "      border: none;\n",
              "      border-radius: 50%;\n",
              "      cursor: pointer;\n",
              "      display: none;\n",
              "      fill: #1967D2;\n",
              "      height: 32px;\n",
              "      padding: 0 0 0 0;\n",
              "      width: 32px;\n",
              "    }\n",
              "\n",
              "    .colab-df-convert:hover {\n",
              "      background-color: #E2EBFA;\n",
              "      box-shadow: 0px 1px 2px rgba(60, 64, 67, 0.3), 0px 1px 3px 1px rgba(60, 64, 67, 0.15);\n",
              "      fill: #174EA6;\n",
              "    }\n",
              "\n",
              "    [theme=dark] .colab-df-convert {\n",
              "      background-color: #3B4455;\n",
              "      fill: #D2E3FC;\n",
              "    }\n",
              "\n",
              "    [theme=dark] .colab-df-convert:hover {\n",
              "      background-color: #434B5C;\n",
              "      box-shadow: 0px 1px 3px 1px rgba(0, 0, 0, 0.15);\n",
              "      filter: drop-shadow(0px 1px 2px rgba(0, 0, 0, 0.3));\n",
              "      fill: #FFFFFF;\n",
              "    }\n",
              "  </style>\n",
              "\n",
              "      <script>\n",
              "        const buttonEl =\n",
              "          document.querySelector('#df-7839858a-2d27-4eae-b55e-4e5a9217ecaa button.colab-df-convert');\n",
              "        buttonEl.style.display =\n",
              "          google.colab.kernel.accessAllowed ? 'block' : 'none';\n",
              "\n",
              "        async function convertToInteractive(key) {\n",
              "          const element = document.querySelector('#df-7839858a-2d27-4eae-b55e-4e5a9217ecaa');\n",
              "          const dataTable =\n",
              "            await google.colab.kernel.invokeFunction('convertToInteractive',\n",
              "                                                     [key], {});\n",
              "          if (!dataTable) return;\n",
              "\n",
              "          const docLinkHtml = 'Like what you see? Visit the ' +\n",
              "            '<a target=\"_blank\" href=https://colab.research.google.com/notebooks/data_table.ipynb>data table notebook</a>'\n",
              "            + ' to learn more about interactive tables.';\n",
              "          element.innerHTML = '';\n",
              "          dataTable['output_type'] = 'display_data';\n",
              "          await google.colab.output.renderOutput(dataTable, element);\n",
              "          const docLink = document.createElement('div');\n",
              "          docLink.innerHTML = docLinkHtml;\n",
              "          element.appendChild(docLink);\n",
              "        }\n",
              "      </script>\n",
              "    </div>\n",
              "  </div>\n",
              "  "
            ]
          },
          "metadata": {},
          "execution_count": 1
        }
      ]
    },
    {
      "cell_type": "code",
      "source": [
        "master_data.info()"
      ],
      "metadata": {
        "colab": {
          "base_uri": "https://localhost:8080/"
        },
        "id": "jNXJXz7CpW2X",
        "outputId": "9ed46b47-f9a2-44e8-bbf4-3980477056b3"
      },
      "execution_count": null,
      "outputs": [
        {
          "output_type": "stream",
          "name": "stdout",
          "text": [
            "<class 'pandas.core.frame.DataFrame'>\n",
            "RangeIndex: 143 entries, 0 to 142\n",
            "Data columns (total 56 columns):\n",
            " #   Column                    Non-Null Count  Dtype  \n",
            "---  ------                    --------------  -----  \n",
            " 0   ios version               143 non-null    object \n",
            " 1   MMS_sending               3 non-null      float64\n",
            " 2   Battery                   64 non-null     float64\n",
            " 3   phone_freez_crash         1 non-null      float64\n",
            " 4   app compatibility         7 non-null      float64\n",
            " 5   syncing                   5 non-null      float64\n",
            " 6   bluetooth                 47 non-null     float64\n",
            " 7   app crash                 43 non-null     float64\n",
            " 8   slow performence          12 non-null     float64\n",
            " 9   security_vulnerabilities  3 non-null      float64\n",
            " 10  Wifi                      61 non-null     float64\n",
            " 11  sensor                    4 non-null      float64\n",
            " 12  ringing                   1 non-null      float64\n",
            " 13  vibration                 1 non-null      float64\n",
            " 14  audio_playback            8 non-null      float64\n",
            " 15  display_issues            8 non-null      float64\n",
            " 16  email_app                 9 non-null      float64\n",
            " 17  game_center               1 non-null      float64\n",
            " 18  air_play                  3 non-null      float64\n",
            " 19  air_print                 1 non-null      float64\n",
            " 20  safari                    6 non-null      float64\n",
            " 21  home_sharing              2 non-null      float64\n",
            " 22  presonal_hotspot          1 non-null      float64\n",
            " 23  location_tracking         1 non-null      float64\n",
            " 24  face_time                 4 non-null      float64\n",
            " 25  iBooks                    1 non-null      float64\n",
            " 26  siri                      3 non-null      float64\n",
            " 27  sim_card                  2 non-null      float64\n",
            " 28  mobile_network            10 non-null     float64\n",
            " 29  keyboard                  8 non-null      float64\n",
            " 30  maps                      1 non-null      float64\n",
            " 31  pasbook_app               1 non-null      float64\n",
            " 32  lock_screen               2 non-null      float64\n",
            " 33  imessage                  9 non-null      float64\n",
            " 34  call_audio                3 non-null      float64\n",
            " 35  phone_restart             4 non-null      float64\n",
            " 36  touch_id                  16 non-null     float64\n",
            " 37  app_store                 4 non-null      float64\n",
            " 38  music_app                 1 non-null      float64\n",
            " 39  camera                    8 non-null      float64\n",
            " 40  health_app                2 non-null      float64\n",
            " 41  activation_issue          1 non-null      float64\n",
            " 42  night_shift               1 non-null      float64\n",
            " 43  voiceover                 8 non-null      float64\n",
            " 44  calculator                4 non-null      float64\n",
            " 45  haptic_feedback           1 non-null      float64\n",
            " 46  auto_correct              2 non-null      float64\n",
            " 47  notification              2 non-null      float64\n",
            " 48  apple_pay                 1 non-null      float64\n",
            " 49  icloud                    2 non-null      float64\n",
            " 50  charging_issue            1 non-null      float64\n",
            " 51  face_id                   2 non-null      float64\n",
            " 52  voicemail                 1 non-null      float64\n",
            " 53  home_pod                  2 non-null      float64\n",
            " 54  ios_version               143 non-null    float64\n",
            " 55  total_bugs                143 non-null    int64  \n",
            "dtypes: float64(54), int64(1), object(1)\n",
            "memory usage: 62.7+ KB\n"
          ]
        }
      ]
    },
    {
      "cell_type": "code",
      "source": [
        "mydataset_without_null = master_data.fillna(0)\n",
        "mydataset_without_null.info()"
      ],
      "metadata": {
        "id": "_YU424LDgMzL",
        "colab": {
          "base_uri": "https://localhost:8080/"
        },
        "outputId": "f9e1ad1b-7396-4604-fd8a-2a6ff7426d11"
      },
      "execution_count": null,
      "outputs": [
        {
          "output_type": "stream",
          "name": "stdout",
          "text": [
            "<class 'pandas.core.frame.DataFrame'>\n",
            "RangeIndex: 143 entries, 0 to 142\n",
            "Data columns (total 56 columns):\n",
            " #   Column                    Non-Null Count  Dtype  \n",
            "---  ------                    --------------  -----  \n",
            " 0   ios version               143 non-null    object \n",
            " 1   MMS_sending               143 non-null    float64\n",
            " 2   Battery                   143 non-null    float64\n",
            " 3   phone_freez_crash         143 non-null    float64\n",
            " 4   app compatibility         143 non-null    float64\n",
            " 5   syncing                   143 non-null    float64\n",
            " 6   bluetooth                 143 non-null    float64\n",
            " 7   app crash                 143 non-null    float64\n",
            " 8   slow performence          143 non-null    float64\n",
            " 9   security_vulnerabilities  143 non-null    float64\n",
            " 10  Wifi                      143 non-null    float64\n",
            " 11  sensor                    143 non-null    float64\n",
            " 12  ringing                   143 non-null    float64\n",
            " 13  vibration                 143 non-null    float64\n",
            " 14  audio_playback            143 non-null    float64\n",
            " 15  display_issues            143 non-null    float64\n",
            " 16  email_app                 143 non-null    float64\n",
            " 17  game_center               143 non-null    float64\n",
            " 18  air_play                  143 non-null    float64\n",
            " 19  air_print                 143 non-null    float64\n",
            " 20  safari                    143 non-null    float64\n",
            " 21  home_sharing              143 non-null    float64\n",
            " 22  presonal_hotspot          143 non-null    float64\n",
            " 23  location_tracking         143 non-null    float64\n",
            " 24  face_time                 143 non-null    float64\n",
            " 25  iBooks                    143 non-null    float64\n",
            " 26  siri                      143 non-null    float64\n",
            " 27  sim_card                  143 non-null    float64\n",
            " 28  mobile_network            143 non-null    float64\n",
            " 29  keyboard                  143 non-null    float64\n",
            " 30  maps                      143 non-null    float64\n",
            " 31  pasbook_app               143 non-null    float64\n",
            " 32  lock_screen               143 non-null    float64\n",
            " 33  imessage                  143 non-null    float64\n",
            " 34  call_audio                143 non-null    float64\n",
            " 35  phone_restart             143 non-null    float64\n",
            " 36  touch_id                  143 non-null    float64\n",
            " 37  app_store                 143 non-null    float64\n",
            " 38  music_app                 143 non-null    float64\n",
            " 39  camera                    143 non-null    float64\n",
            " 40  health_app                143 non-null    float64\n",
            " 41  activation_issue          143 non-null    float64\n",
            " 42  night_shift               143 non-null    float64\n",
            " 43  voiceover                 143 non-null    float64\n",
            " 44  calculator                143 non-null    float64\n",
            " 45  haptic_feedback           143 non-null    float64\n",
            " 46  auto_correct              143 non-null    float64\n",
            " 47  notification              143 non-null    float64\n",
            " 48  apple_pay                 143 non-null    float64\n",
            " 49  icloud                    143 non-null    float64\n",
            " 50  charging_issue            143 non-null    float64\n",
            " 51  face_id                   143 non-null    float64\n",
            " 52  voicemail                 143 non-null    float64\n",
            " 53  home_pod                  143 non-null    float64\n",
            " 54  ios_version               143 non-null    float64\n",
            " 55  total_bugs                143 non-null    int64  \n",
            "dtypes: float64(54), int64(1), object(1)\n",
            "memory usage: 62.7+ KB\n"
          ]
        }
      ]
    },
    {
      "cell_type": "code",
      "source": [
        "data_copy = mydataset_without_null.drop(['ios version'], axis=1)\n",
        "data_copy = data_copy.drop(['total_bugs'], axis=1)"
      ],
      "metadata": {
        "id": "Ghr4Ey9eA2NE"
      },
      "execution_count": null,
      "outputs": []
    },
    {
      "cell_type": "code",
      "source": [
        "data_copy.info()"
      ],
      "metadata": {
        "colab": {
          "base_uri": "https://localhost:8080/"
        },
        "id": "TA_GWxMig33_",
        "outputId": "2c727703-67c3-4ad5-b752-86fcf22a445f"
      },
      "execution_count": null,
      "outputs": [
        {
          "output_type": "stream",
          "name": "stdout",
          "text": [
            "<class 'pandas.core.frame.DataFrame'>\n",
            "RangeIndex: 143 entries, 0 to 142\n",
            "Data columns (total 54 columns):\n",
            " #   Column                    Non-Null Count  Dtype  \n",
            "---  ------                    --------------  -----  \n",
            " 0   MMS_sending               143 non-null    float64\n",
            " 1   Battery                   143 non-null    float64\n",
            " 2   phone_freez_crash         143 non-null    float64\n",
            " 3   app compatibility         143 non-null    float64\n",
            " 4   syncing                   143 non-null    float64\n",
            " 5   bluetooth                 143 non-null    float64\n",
            " 6   app crash                 143 non-null    float64\n",
            " 7   slow performence          143 non-null    float64\n",
            " 8   security_vulnerabilities  143 non-null    float64\n",
            " 9   Wifi                      143 non-null    float64\n",
            " 10  sensor                    143 non-null    float64\n",
            " 11  ringing                   143 non-null    float64\n",
            " 12  vibration                 143 non-null    float64\n",
            " 13  audio_playback            143 non-null    float64\n",
            " 14  display_issues            143 non-null    float64\n",
            " 15  email_app                 143 non-null    float64\n",
            " 16  game_center               143 non-null    float64\n",
            " 17  air_play                  143 non-null    float64\n",
            " 18  air_print                 143 non-null    float64\n",
            " 19  safari                    143 non-null    float64\n",
            " 20  home_sharing              143 non-null    float64\n",
            " 21  presonal_hotspot          143 non-null    float64\n",
            " 22  location_tracking         143 non-null    float64\n",
            " 23  face_time                 143 non-null    float64\n",
            " 24  iBooks                    143 non-null    float64\n",
            " 25  siri                      143 non-null    float64\n",
            " 26  sim_card                  143 non-null    float64\n",
            " 27  mobile_network            143 non-null    float64\n",
            " 28  keyboard                  143 non-null    float64\n",
            " 29  maps                      143 non-null    float64\n",
            " 30  pasbook_app               143 non-null    float64\n",
            " 31  lock_screen               143 non-null    float64\n",
            " 32  imessage                  143 non-null    float64\n",
            " 33  call_audio                143 non-null    float64\n",
            " 34  phone_restart             143 non-null    float64\n",
            " 35  touch_id                  143 non-null    float64\n",
            " 36  app_store                 143 non-null    float64\n",
            " 37  music_app                 143 non-null    float64\n",
            " 38  camera                    143 non-null    float64\n",
            " 39  health_app                143 non-null    float64\n",
            " 40  activation_issue          143 non-null    float64\n",
            " 41  night_shift               143 non-null    float64\n",
            " 42  voiceover                 143 non-null    float64\n",
            " 43  calculator                143 non-null    float64\n",
            " 44  haptic_feedback           143 non-null    float64\n",
            " 45  auto_correct              143 non-null    float64\n",
            " 46  notification              143 non-null    float64\n",
            " 47  apple_pay                 143 non-null    float64\n",
            " 48  icloud                    143 non-null    float64\n",
            " 49  charging_issue            143 non-null    float64\n",
            " 50  face_id                   143 non-null    float64\n",
            " 51  voicemail                 143 non-null    float64\n",
            " 52  home_pod                  143 non-null    float64\n",
            " 53  ios_version               143 non-null    float64\n",
            "dtypes: float64(54)\n",
            "memory usage: 60.5 KB\n"
          ]
        }
      ]
    },
    {
      "cell_type": "code",
      "source": [
        "pred_data = pd.read_csv('pred.csv',sep=',', encoding='latin-1')\n",
        "pred_data"
      ],
      "metadata": {
        "colab": {
          "base_uri": "https://localhost:8080/",
          "height": 191
        },
        "id": "lkp9LQRcZhsA",
        "outputId": "5299ea92-72fa-40b9-ea9c-3432d5f22ba2"
      },
      "execution_count": null,
      "outputs": [
        {
          "output_type": "execute_result",
          "data": {
            "text/plain": [
              "   ios version  MMS_sending  Battery  phone_freez_crash  app compatibility  \\\n",
              "0           15          NaN      NaN                NaN                NaN   \n",
              "\n",
              "   syncing  bluetooth  app crash  slow performence  security_vulnerabilities  \\\n",
              "0      NaN        NaN        NaN               NaN                       NaN   \n",
              "\n",
              "   ...  haptic_feedback  auto_correct  notification  apple_pay  icloud  \\\n",
              "0  ...              NaN           NaN           NaN        NaN     NaN   \n",
              "\n",
              "   charging_issue  face_id  voicemail  home_pod  ios_version  \n",
              "0             NaN      NaN        NaN       NaN           14  \n",
              "\n",
              "[1 rows x 55 columns]"
            ],
            "text/html": [
              "\n",
              "  <div id=\"df-89e0c6a6-3e2c-4cfc-927a-ffc0587cfbbb\">\n",
              "    <div class=\"colab-df-container\">\n",
              "      <div>\n",
              "<style scoped>\n",
              "    .dataframe tbody tr th:only-of-type {\n",
              "        vertical-align: middle;\n",
              "    }\n",
              "\n",
              "    .dataframe tbody tr th {\n",
              "        vertical-align: top;\n",
              "    }\n",
              "\n",
              "    .dataframe thead th {\n",
              "        text-align: right;\n",
              "    }\n",
              "</style>\n",
              "<table border=\"1\" class=\"dataframe\">\n",
              "  <thead>\n",
              "    <tr style=\"text-align: right;\">\n",
              "      <th></th>\n",
              "      <th>ios version</th>\n",
              "      <th>MMS_sending</th>\n",
              "      <th>Battery</th>\n",
              "      <th>phone_freez_crash</th>\n",
              "      <th>app compatibility</th>\n",
              "      <th>syncing</th>\n",
              "      <th>bluetooth</th>\n",
              "      <th>app crash</th>\n",
              "      <th>slow performence</th>\n",
              "      <th>security_vulnerabilities</th>\n",
              "      <th>...</th>\n",
              "      <th>haptic_feedback</th>\n",
              "      <th>auto_correct</th>\n",
              "      <th>notification</th>\n",
              "      <th>apple_pay</th>\n",
              "      <th>icloud</th>\n",
              "      <th>charging_issue</th>\n",
              "      <th>face_id</th>\n",
              "      <th>voicemail</th>\n",
              "      <th>home_pod</th>\n",
              "      <th>ios_version</th>\n",
              "    </tr>\n",
              "  </thead>\n",
              "  <tbody>\n",
              "    <tr>\n",
              "      <th>0</th>\n",
              "      <td>15</td>\n",
              "      <td>NaN</td>\n",
              "      <td>NaN</td>\n",
              "      <td>NaN</td>\n",
              "      <td>NaN</td>\n",
              "      <td>NaN</td>\n",
              "      <td>NaN</td>\n",
              "      <td>NaN</td>\n",
              "      <td>NaN</td>\n",
              "      <td>NaN</td>\n",
              "      <td>...</td>\n",
              "      <td>NaN</td>\n",
              "      <td>NaN</td>\n",
              "      <td>NaN</td>\n",
              "      <td>NaN</td>\n",
              "      <td>NaN</td>\n",
              "      <td>NaN</td>\n",
              "      <td>NaN</td>\n",
              "      <td>NaN</td>\n",
              "      <td>NaN</td>\n",
              "      <td>14</td>\n",
              "    </tr>\n",
              "  </tbody>\n",
              "</table>\n",
              "<p>1 rows × 55 columns</p>\n",
              "</div>\n",
              "      <button class=\"colab-df-convert\" onclick=\"convertToInteractive('df-89e0c6a6-3e2c-4cfc-927a-ffc0587cfbbb')\"\n",
              "              title=\"Convert this dataframe to an interactive table.\"\n",
              "              style=\"display:none;\">\n",
              "        \n",
              "  <svg xmlns=\"http://www.w3.org/2000/svg\" height=\"24px\"viewBox=\"0 0 24 24\"\n",
              "       width=\"24px\">\n",
              "    <path d=\"M0 0h24v24H0V0z\" fill=\"none\"/>\n",
              "    <path d=\"M18.56 5.44l.94 2.06.94-2.06 2.06-.94-2.06-.94-.94-2.06-.94 2.06-2.06.94zm-11 1L8.5 8.5l.94-2.06 2.06-.94-2.06-.94L8.5 2.5l-.94 2.06-2.06.94zm10 10l.94 2.06.94-2.06 2.06-.94-2.06-.94-.94-2.06-.94 2.06-2.06.94z\"/><path d=\"M17.41 7.96l-1.37-1.37c-.4-.4-.92-.59-1.43-.59-.52 0-1.04.2-1.43.59L10.3 9.45l-7.72 7.72c-.78.78-.78 2.05 0 2.83L4 21.41c.39.39.9.59 1.41.59.51 0 1.02-.2 1.41-.59l7.78-7.78 2.81-2.81c.8-.78.8-2.07 0-2.86zM5.41 20L4 18.59l7.72-7.72 1.47 1.35L5.41 20z\"/>\n",
              "  </svg>\n",
              "      </button>\n",
              "      \n",
              "  <style>\n",
              "    .colab-df-container {\n",
              "      display:flex;\n",
              "      flex-wrap:wrap;\n",
              "      gap: 12px;\n",
              "    }\n",
              "\n",
              "    .colab-df-convert {\n",
              "      background-color: #E8F0FE;\n",
              "      border: none;\n",
              "      border-radius: 50%;\n",
              "      cursor: pointer;\n",
              "      display: none;\n",
              "      fill: #1967D2;\n",
              "      height: 32px;\n",
              "      padding: 0 0 0 0;\n",
              "      width: 32px;\n",
              "    }\n",
              "\n",
              "    .colab-df-convert:hover {\n",
              "      background-color: #E2EBFA;\n",
              "      box-shadow: 0px 1px 2px rgba(60, 64, 67, 0.3), 0px 1px 3px 1px rgba(60, 64, 67, 0.15);\n",
              "      fill: #174EA6;\n",
              "    }\n",
              "\n",
              "    [theme=dark] .colab-df-convert {\n",
              "      background-color: #3B4455;\n",
              "      fill: #D2E3FC;\n",
              "    }\n",
              "\n",
              "    [theme=dark] .colab-df-convert:hover {\n",
              "      background-color: #434B5C;\n",
              "      box-shadow: 0px 1px 3px 1px rgba(0, 0, 0, 0.15);\n",
              "      filter: drop-shadow(0px 1px 2px rgba(0, 0, 0, 0.3));\n",
              "      fill: #FFFFFF;\n",
              "    }\n",
              "  </style>\n",
              "\n",
              "      <script>\n",
              "        const buttonEl =\n",
              "          document.querySelector('#df-89e0c6a6-3e2c-4cfc-927a-ffc0587cfbbb button.colab-df-convert');\n",
              "        buttonEl.style.display =\n",
              "          google.colab.kernel.accessAllowed ? 'block' : 'none';\n",
              "\n",
              "        async function convertToInteractive(key) {\n",
              "          const element = document.querySelector('#df-89e0c6a6-3e2c-4cfc-927a-ffc0587cfbbb');\n",
              "          const dataTable =\n",
              "            await google.colab.kernel.invokeFunction('convertToInteractive',\n",
              "                                                     [key], {});\n",
              "          if (!dataTable) return;\n",
              "\n",
              "          const docLinkHtml = 'Like what you see? Visit the ' +\n",
              "            '<a target=\"_blank\" href=https://colab.research.google.com/notebooks/data_table.ipynb>data table notebook</a>'\n",
              "            + ' to learn more about interactive tables.';\n",
              "          element.innerHTML = '';\n",
              "          dataTable['output_type'] = 'display_data';\n",
              "          await google.colab.output.renderOutput(dataTable, element);\n",
              "          const docLink = document.createElement('div');\n",
              "          docLink.innerHTML = docLinkHtml;\n",
              "          element.appendChild(docLink);\n",
              "        }\n",
              "      </script>\n",
              "    </div>\n",
              "  </div>\n",
              "  "
            ]
          },
          "metadata": {},
          "execution_count": 6
        }
      ]
    },
    {
      "cell_type": "code",
      "execution_count": null,
      "metadata": {
        "id": "5e1Omcg3ZHGP",
        "colab": {
          "base_uri": "https://localhost:8080/"
        },
        "outputId": "3332aa0f-c5de-4ca4-dfbe-9f2e3d80cc07"
      },
      "outputs": [
        {
          "output_type": "stream",
          "name": "stdout",
          "text": [
            "------------------------------------------------- MMS_sending -------------------------------------------------------- 0\n",
            "[0.]\n",
            "------------------------------------------------- Battery -------------------------------------------------------- 1\n",
            "[1.]\n",
            "------------------------------------------------- phone_freez_crash -------------------------------------------------------- 2\n",
            "[0.]\n",
            "------------------------------------------------- app compatibility -------------------------------------------------------- 3\n",
            "[1.]\n",
            "------------------------------------------------- syncing -------------------------------------------------------- 4\n",
            "[0.]\n",
            "------------------------------------------------- bluetooth -------------------------------------------------------- 5\n",
            "[1.]\n",
            "------------------------------------------------- app crash -------------------------------------------------------- 6\n",
            "[0.]\n",
            "------------------------------------------------- slow performence -------------------------------------------------------- 7\n",
            "[0.]\n",
            "------------------------------------------------- security_vulnerabilities -------------------------------------------------------- 8\n",
            "[0.]\n",
            "------------------------------------------------- Wifi -------------------------------------------------------- 9\n",
            "[1.]\n",
            "------------------------------------------------- sensor -------------------------------------------------------- 10\n",
            "[0.]\n",
            "------------------------------------------------- ringing -------------------------------------------------------- 11\n",
            "[0.]\n",
            "------------------------------------------------- vibration -------------------------------------------------------- 12\n",
            "[0.]\n",
            "------------------------------------------------- audio_playback -------------------------------------------------------- 13\n",
            "[0.]\n",
            "------------------------------------------------- display_issues -------------------------------------------------------- 14\n",
            "[0.]\n",
            "------------------------------------------------- email_app -------------------------------------------------------- 15\n",
            "[1.]\n",
            "------------------------------------------------- game_center -------------------------------------------------------- 16\n",
            "[0.]\n",
            "------------------------------------------------- air_play -------------------------------------------------------- 17\n",
            "[0.]\n",
            "------------------------------------------------- air_print -------------------------------------------------------- 18\n",
            "[0.]\n",
            "------------------------------------------------- safari -------------------------------------------------------- 19\n",
            "[0.]\n",
            "------------------------------------------------- home_sharing -------------------------------------------------------- 20\n",
            "[0.]\n",
            "------------------------------------------------- presonal_hotspot -------------------------------------------------------- 21\n",
            "[0.]\n",
            "------------------------------------------------- location_tracking -------------------------------------------------------- 22\n",
            "[0.]\n",
            "------------------------------------------------- face_time -------------------------------------------------------- 23\n",
            "[0.]\n",
            "------------------------------------------------- iBooks -------------------------------------------------------- 24\n",
            "[0.]\n",
            "------------------------------------------------- siri -------------------------------------------------------- 25\n",
            "[0.]\n",
            "------------------------------------------------- sim_card -------------------------------------------------------- 26\n",
            "[0.]\n",
            "------------------------------------------------- mobile_network -------------------------------------------------------- 27\n",
            "[1.]\n",
            "------------------------------------------------- keyboard -------------------------------------------------------- 28\n",
            "[0.]\n",
            "------------------------------------------------- maps -------------------------------------------------------- 29\n",
            "[0.]\n",
            "------------------------------------------------- pasbook_app -------------------------------------------------------- 30\n",
            "[0.]\n",
            "------------------------------------------------- lock_screen -------------------------------------------------------- 31\n",
            "[0.]\n",
            "------------------------------------------------- imessage -------------------------------------------------------- 32\n",
            "[0.]\n",
            "------------------------------------------------- call_audio -------------------------------------------------------- 33\n",
            "[0.]\n",
            "------------------------------------------------- phone_restart -------------------------------------------------------- 34\n",
            "[0.]\n",
            "------------------------------------------------- touch_id -------------------------------------------------------- 35\n",
            "[0.]\n",
            "------------------------------------------------- app_store -------------------------------------------------------- 36\n",
            "[0.]\n",
            "------------------------------------------------- music_app -------------------------------------------------------- 37\n",
            "[0.]\n",
            "------------------------------------------------- camera -------------------------------------------------------- 38\n",
            "[1.]\n",
            "------------------------------------------------- health_app -------------------------------------------------------- 39\n",
            "[0.]\n",
            "------------------------------------------------- activation_issue -------------------------------------------------------- 40\n",
            "[0.]\n",
            "------------------------------------------------- night_shift -------------------------------------------------------- 41\n",
            "[0.]\n",
            "------------------------------------------------- voiceover -------------------------------------------------------- 42\n",
            "[0.]\n",
            "------------------------------------------------- calculator -------------------------------------------------------- 43\n",
            "[0.]\n",
            "------------------------------------------------- haptic_feedback -------------------------------------------------------- 44\n",
            "[0.]\n",
            "------------------------------------------------- auto_correct -------------------------------------------------------- 45\n",
            "[0.]\n",
            "------------------------------------------------- notification -------------------------------------------------------- 46\n",
            "[1.]\n",
            "------------------------------------------------- apple_pay -------------------------------------------------------- 47\n",
            "[0.]\n",
            "------------------------------------------------- icloud -------------------------------------------------------- 48\n",
            "[0.]\n",
            "------------------------------------------------- charging_issue -------------------------------------------------------- 49\n",
            "[0.]\n",
            "------------------------------------------------- face_id -------------------------------------------------------- 50\n",
            "[0.]\n",
            "------------------------------------------------- voicemail -------------------------------------------------------- 51\n",
            "[0.]\n",
            "------------------------------------------------- home_pod -------------------------------------------------------- 52\n",
            "[0.]\n"
          ]
        }
      ],
      "source": [
        "\n",
        "summ=0\n",
        "heatmap_list=[]\n",
        "\n",
        "def train(i):\n",
        "    try:\n",
        "      y=data_copy.iloc[:, i].values\n",
        "      x=data_copy.iloc[:, 53].values\n",
        "      x=x.reshape(-1,1)\n",
        "      from sklearn.ensemble import GradientBoostingClassifier\n",
        "      from sklearn.model_selection import train_test_split\n",
        "      #x_train, x_test, y_train, y_test = train_test_split(x, y, test_size=0.01, shuffle=True)\n",
        "      clf = GradientBoostingClassifier(n_estimators=100, learning_rate=2,max_depth=1, random_state=42).fit(x, y)\n",
        "\n",
        "      pred_data = pd.read_csv('pred.csv',sep=',', encoding='latin-1')\n",
        "      df = pred_data.drop(['ios version'], axis=1)\n",
        "\n",
        "      f_x=df['ios_version'].values\n",
        "      f_x=f_x.reshape(-1,1)\n",
        "\n",
        "      pred = clf.predict(f_x)\n",
        "      print(pred)\n",
        "      type(pred)\n",
        "      temp = pred[:1]\n",
        "      global summ\n",
        "      summ = summ + temp\n",
        "      global heatmap_list\n",
        "      heatmap_list.append(pred.item())\n",
        "\n",
        "\n",
        "    except:\n",
        "      print('--------------------------------------------------------------------------------------------------------------ERROR-------',i)\n",
        "      train(i)\n",
        "\n",
        "\n",
        "for i in range (53):\n",
        "  print('-------------------------------------------------',data_copy.columns[i],'--------------------------------------------------------',i)\n",
        "\n",
        "  train(i)"
      ]
    },
    {
      "cell_type": "code",
      "source": [
        "print(heatmap_list)"
      ],
      "metadata": {
        "colab": {
          "base_uri": "https://localhost:8080/"
        },
        "id": "mW8t6wUuz8UX",
        "outputId": "4d8b4630-bc60-4c21-ba8a-c1ecb7742e29"
      },
      "execution_count": null,
      "outputs": [
        {
          "output_type": "stream",
          "name": "stdout",
          "text": [
            "[0.0, 1.0, 0.0, 1.0, 0.0, 1.0, 0.0, 0.0, 0.0, 1.0, 0.0, 0.0, 0.0, 0.0, 0.0, 1.0, 0.0, 0.0, 0.0, 0.0, 0.0, 0.0, 0.0, 0.0, 0.0, 0.0, 0.0, 1.0, 0.0, 0.0, 0.0, 0.0, 0.0, 0.0, 0.0, 0.0, 0.0, 0.0, 1.0, 0.0, 0.0, 0.0, 0.0, 0.0, 0.0, 0.0, 1.0, 0.0, 0.0, 0.0, 0.0, 0.0, 0.0]\n"
          ]
        }
      ]
    },
    {
      "cell_type": "code",
      "source": [
        "actual_list = [0,1,0,0,0,1,1,0,0,1,0,0,0,0,1,0,0,0,0,0,0,0,0,0,0,0,0,1,0,0,0,0,0,0,0,0,0,0,1,0,0,0,0,0,0,0,1,0,0,0,0,0,0]"
      ],
      "metadata": {
        "id": "I7YO3NyEQq8u"
      },
      "execution_count": null,
      "outputs": []
    },
    {
      "cell_type": "code",
      "source": [
        "import matplotlib.pyplot as plt\n",
        "import numpy\n",
        "from sklearn import metrics\n",
        "\n",
        "confusion_matrix = metrics.confusion_matrix(actual_list, heatmap_list)\n",
        "\n",
        "cm_display = metrics.ConfusionMatrixDisplay(confusion_matrix = confusion_matrix, display_labels = ['1','0'])\n",
        "cm_display.plot()\n",
        "plt.show()"
      ],
      "metadata": {
        "colab": {
          "base_uri": "https://localhost:8080/",
          "height": 279
        },
        "id": "SMDG18XBPR-9",
        "outputId": "3437738c-e77e-43b7-bc11-9e2cbc150b8f"
      },
      "execution_count": null,
      "outputs": [
        {
          "output_type": "display_data",
          "data": {
            "text/plain": [
              "<Figure size 432x288 with 2 Axes>"
            ],
            "image/png": "[encoded data removed]"
          },
          "metadata": {
            "needs_background": "light"
          }
        }
      ]
    },
    {
      "cell_type": "code",
      "source": [
        "from sklearn.metrics import accuracy_score\n",
        "accuracy_score(actual_list,heatmap_list)"
      ],
      "metadata": {
        "colab": {
          "base_uri": "https://localhost:8080/"
        },
        "id": "8KC80qjsoepa",
        "outputId": "611a1322-5184-4842-fe32-03c9724ae2f7"
      },
      "execution_count": null,
      "outputs": [
        {
          "output_type": "execute_result",
          "data": {
            "text/plain": [
              "0.9245283018867925"
            ]
          },
          "metadata": {},
          "execution_count": 15
        }
      ]
    },
    {
      "cell_type": "code",
      "source": [
        "if summ[0]>3:\n",
        "  if summ[0]>6:\n",
        "    print('High risk of updating')\n",
        "  else:\n",
        "    print(\"Medium risk of updating\")\n",
        "else:\n",
        "  print('Low risk of updating')"
      ],
      "metadata": {
        "colab": {
          "base_uri": "https://localhost:8080/"
        },
        "id": "booD6psPF9H7",
        "outputId": "a4b182ec-0e41-4f99-d5e4-f3e953348ff4"
      },
      "execution_count": null,
      "outputs": [
        {
          "output_type": "stream",
          "name": "stdout",
          "text": [
            "High risk of updating\n"
          ]
        }
      ]
    },
    {
      "cell_type": "code",
      "source": [
        "master_data.columns"
      ],
      "metadata": {
        "colab": {
          "base_uri": "https://localhost:8080/"
        },
        "id": "vxTysl1v1wHH",
        "outputId": "a7c57bdb-9f52-446d-9ebe-2bbe84dc8ce3"
      },
      "execution_count": null,
      "outputs": [
        {
          "output_type": "execute_result",
          "data": {
            "text/plain": [
              "Index(['ios version', 'MMS_sending', 'Battery', 'phone_freez_crash',\n",
              "       'app compatibility', 'syncing', 'bluetooth', 'app crash',\n",
              "       'slow performence', 'security_vulnerabilities', 'Wifi', 'sensor',\n",
              "       'ringing', 'vibration', 'audio_playback', 'display_issues', 'email_app',\n",
              "       'game_center', 'air_play', 'air_print', 'safari', 'home_sharing',\n",
              "       'presonal_hotspot', 'location_tracking', 'face_time', 'iBooks', 'siri',\n",
              "       'sim_card', 'mobile_network', 'keyboard', 'maps', 'pasbook_app',\n",
              "       'lock_screen', 'imessage', 'call_audio', 'phone_restart', 'touch_id',\n",
              "       'app_store', 'music_app', 'camera', 'health_app', 'activation_issue',\n",
              "       'night_shift', 'voiceover', 'calculator', 'haptic_feedback',\n",
              "       'auto_correct', 'notification', 'apple_pay', 'icloud', 'charging_issue',\n",
              "       'face_id', 'voicemail', 'home_pod', 'ios_version', 'total_bugs'],\n",
              "      dtype='object')"
            ]
          },
          "metadata": {},
          "execution_count": 18
        }
      ]
    },
    {
      "cell_type": "code",
      "source": [
        "import numpy as np\n",
        "\n",
        "columns = master_data.drop(['ios version'], axis=1)\n",
        "columns = columns.drop(['ios_version'], axis=1)\n",
        "columns = columns.drop(['total_bugs'], axis=1)\n",
        "heatmap_list=np.array(heatmap_list)\n",
        "\n",
        "columns=columns.columns\n",
        "heatmap_data = pd.DataFrame(heatmap_list, columns)"
      ],
      "metadata": {
        "id": "Q0kkE-QZNtcx"
      },
      "execution_count": null,
      "outputs": []
    },
    {
      "cell_type": "code",
      "source": [
        "heatmap_data.head()"
      ],
      "metadata": {
        "colab": {
          "base_uri": "https://localhost:8080/",
          "height": 206
        },
        "id": "58nj4W_IOJs9",
        "outputId": "706f94d7-ce62-4513-8a36-56ebec17361b"
      },
      "execution_count": null,
      "outputs": [
        {
          "output_type": "execute_result",
          "data": {
            "text/plain": [
              "                     0\n",
              "MMS_sending        0.0\n",
              "Battery            1.0\n",
              "phone_freez_crash  0.0\n",
              "app compatibility  1.0\n",
              "syncing            0.0"
            ],
            "text/html": [
              "\n",
              "  <div id=\"df-c3d3f25a-c013-4f27-8384-a4fb5ee39363\">\n",
              "    <div class=\"colab-df-container\">\n",
              "      <div>\n",
              "<style scoped>\n",
              "    .dataframe tbody tr th:only-of-type {\n",
              "        vertical-align: middle;\n",
              "    }\n",
              "\n",
              "    .dataframe tbody tr th {\n",
              "        vertical-align: top;\n",
              "    }\n",
              "\n",
              "    .dataframe thead th {\n",
              "        text-align: right;\n",
              "    }\n",
              "</style>\n",
              "<table border=\"1\" class=\"dataframe\">\n",
              "  <thead>\n",
              "    <tr style=\"text-align: right;\">\n",
              "      <th></th>\n",
              "      <th>0</th>\n",
              "    </tr>\n",
              "  </thead>\n",
              "  <tbody>\n",
              "    <tr>\n",
              "      <th>MMS_sending</th>\n",
              "      <td>0.0</td>\n",
              "    </tr>\n",
              "    <tr>\n",
              "      <th>Battery</th>\n",
              "      <td>1.0</td>\n",
              "    </tr>\n",
              "    <tr>\n",
              "      <th>phone_freez_crash</th>\n",
              "      <td>0.0</td>\n",
              "    </tr>\n",
              "    <tr>\n",
              "      <th>app compatibility</th>\n",
              "      <td>1.0</td>\n",
              "    </tr>\n",
              "    <tr>\n",
              "      <th>syncing</th>\n",
              "      <td>0.0</td>\n",
              "    </tr>\n",
              "  </tbody>\n",
              "</table>\n",
              "</div>\n",
              "      <button class=\"colab-df-convert\" onclick=\"convertToInteractive('df-c3d3f25a-c013-4f27-8384-a4fb5ee39363')\"\n",
              "              title=\"Convert this dataframe to an interactive table.\"\n",
              "              style=\"display:none;\">\n",
              "        \n",
              "  <svg xmlns=\"http://www.w3.org/2000/svg\" height=\"24px\"viewBox=\"0 0 24 24\"\n",
              "       width=\"24px\">\n",
              "    <path d=\"M0 0h24v24H0V0z\" fill=\"none\"/>\n",
              "    <path d=\"M18.56 5.44l.94 2.06.94-2.06 2.06-.94-2.06-.94-.94-2.06-.94 2.06-2.06.94zm-11 1L8.5 8.5l.94-2.06 2.06-.94-2.06-.94L8.5 2.5l-.94 2.06-2.06.94zm10 10l.94 2.06.94-2.06 2.06-.94-2.06-.94-.94-2.06-.94 2.06-2.06.94z\"/><path d=\"M17.41 7.96l-1.37-1.37c-.4-.4-.92-.59-1.43-.59-.52 0-1.04.2-1.43.59L10.3 9.45l-7.72 7.72c-.78.78-.78 2.05 0 2.83L4 21.41c.39.39.9.59 1.41.59.51 0 1.02-.2 1.41-.59l7.78-7.78 2.81-2.81c.8-.78.8-2.07 0-2.86zM5.41 20L4 18.59l7.72-7.72 1.47 1.35L5.41 20z\"/>\n",
              "  </svg>\n",
              "      </button>\n",
              "      \n",
              "  <style>\n",
              "    .colab-df-container {\n",
              "      display:flex;\n",
              "      flex-wrap:wrap;\n",
              "      gap: 12px;\n",
              "    }\n",
              "\n",
              "    .colab-df-convert {\n",
              "      background-color: #E8F0FE;\n",
              "      border: none;\n",
              "      border-radius: 50%;\n",
              "      cursor: pointer;\n",
              "      display: none;\n",
              "      fill: #1967D2;\n",
              "      height: 32px;\n",
              "      padding: 0 0 0 0;\n",
              "      width: 32px;\n",
              "    }\n",
              "\n",
              "    .colab-df-convert:hover {\n",
              "      background-color: #E2EBFA;\n",
              "      box-shadow: 0px 1px 2px rgba(60, 64, 67, 0.3), 0px 1px 3px 1px rgba(60, 64, 67, 0.15);\n",
              "      fill: #174EA6;\n",
              "    }\n",
              "\n",
              "    [theme=dark] .colab-df-convert {\n",
              "      background-color: #3B4455;\n",
              "      fill: #D2E3FC;\n",
              "    }\n",
              "\n",
              "    [theme=dark] .colab-df-convert:hover {\n",
              "      background-color: #434B5C;\n",
              "      box-shadow: 0px 1px 3px 1px rgba(0, 0, 0, 0.15);\n",
              "      filter: drop-shadow(0px 1px 2px rgba(0, 0, 0, 0.3));\n",
              "      fill: #FFFFFF;\n",
              "    }\n",
              "  </style>\n",
              "\n",
              "      <script>\n",
              "        const buttonEl =\n",
              "          document.querySelector('#df-c3d3f25a-c013-4f27-8384-a4fb5ee39363 button.colab-df-convert');\n",
              "        buttonEl.style.display =\n",
              "          google.colab.kernel.accessAllowed ? 'block' : 'none';\n",
              "\n",
              "        async function convertToInteractive(key) {\n",
              "          const element = document.querySelector('#df-c3d3f25a-c013-4f27-8384-a4fb5ee39363');\n",
              "          const dataTable =\n",
              "            await google.colab.kernel.invokeFunction('convertToInteractive',\n",
              "                                                     [key], {});\n",
              "          if (!dataTable) return;\n",
              "\n",
              "          const docLinkHtml = 'Like what you see? Visit the ' +\n",
              "            '<a target=\"_blank\" href=https://colab.research.google.com/notebooks/data_table.ipynb>data table notebook</a>'\n",
              "            + ' to learn more about interactive tables.';\n",
              "          element.innerHTML = '';\n",
              "          dataTable['output_type'] = 'display_data';\n",
              "          await google.colab.output.renderOutput(dataTable, element);\n",
              "          const docLink = document.createElement('div');\n",
              "          docLink.innerHTML = docLinkHtml;\n",
              "          element.appendChild(docLink);\n",
              "        }\n",
              "      </script>\n",
              "    </div>\n",
              "  </div>\n",
              "  "
            ]
          },
          "metadata": {},
          "execution_count": 21
        }
      ]
    },
    {
      "cell_type": "code",
      "source": [
        "heatmap_list=np.array(heatmap_list)"
      ],
      "metadata": {
        "id": "LMe3wXo_0G-q"
      },
      "execution_count": null,
      "outputs": []
    },
    {
      "cell_type": "code",
      "source": [
        "import numpy as np\n",
        "import seaborn as sn\n",
        "import matplotlib.pyplot as plt\n",
        "\n",
        "\n",
        "plt.figure(figsize = (50,50))\n",
        "sn.heatmap(data=heatmap_data, annot=True, linewidths=.5)\n",
        "# displaying the plotted heatmap\n",
        "plt.show()"
      ],
      "metadata": {
        "colab": {
          "base_uri": "https://localhost:8080/",
          "height": 1000
        },
        "id": "en-W3fynNm23",
        "outputId": "4020823c-8c6b-498a-964a-146795f4d9bd"
      },
      "execution_count": null,
      "outputs": [
        {
          "output_type": "display_data",
          "data": {
            "text/plain": [
              "<Figure size 3600x3600 with 2 Axes>"
            ],
            "image/png": "[encoded data removed]"
          },
          "metadata": {
            "needs_background": "light"
          }
        }
      ]
    },
    {
      "cell_type": "code",
      "source": [
        "columns = ['ios version', 'total_bugs']\n",
        "graph_data = pd.DataFrame(master_data, columns=columns)\n",
        "\n",
        "graph_data"
      ],
      "metadata": {
        "colab": {
          "base_uri": "https://localhost:8080/",
          "height": 424
        },
        "id": "nIYSngx3cAr0",
        "outputId": "c5437c0b-a119-4819-eb58-240c6a49acc1"
      },
      "execution_count": null,
      "outputs": [
        {
          "output_type": "execute_result",
          "data": {
            "text/plain": [
              "    ios version  total_bugs\n",
              "0             3           8\n",
              "1           3.1           6\n",
              "2         3.1.2           4\n",
              "3         3.1.3           6\n",
              "4           3.2           5\n",
              "..          ...         ...\n",
              "138        13.5           4\n",
              "139      13.5.1           0\n",
              "140        13.6           4\n",
              "141      13.6.1           3\n",
              "142        13.7           0\n",
              "\n",
              "[143 rows x 2 columns]"
            ],
            "text/html": [
              "\n",
              "  <div id=\"df-34e3e12a-9ef0-4a0b-9287-dccf10a2d264\">\n",
              "    <div class=\"colab-df-container\">\n",
              "      <div>\n",
              "<style scoped>\n",
              "    .dataframe tbody tr th:only-of-type {\n",
              "        vertical-align: middle;\n",
              "    }\n",
              "\n",
              "    .dataframe tbody tr th {\n",
              "        vertical-align: top;\n",
              "    }\n",
              "\n",
              "    .dataframe thead th {\n",
              "        text-align: right;\n",
              "    }\n",
              "</style>\n",
              "<table border=\"1\" class=\"dataframe\">\n",
              "  <thead>\n",
              "    <tr style=\"text-align: right;\">\n",
              "      <th></th>\n",
              "      <th>ios version</th>\n",
              "      <th>total_bugs</th>\n",
              "    </tr>\n",
              "  </thead>\n",
              "  <tbody>\n",
              "    <tr>\n",
              "      <th>0</th>\n",
              "      <td>3</td>\n",
              "      <td>8</td>\n",
              "    </tr>\n",
              "    <tr>\n",
              "      <th>1</th>\n",
              "      <td>3.1</td>\n",
              "      <td>6</td>\n",
              "    </tr>\n",
              "    <tr>\n",
              "      <th>2</th>\n",
              "      <td>3.1.2</td>\n",
              "      <td>4</td>\n",
              "    </tr>\n",
              "    <tr>\n",
              "      <th>3</th>\n",
              "      <td>3.1.3</td>\n",
              "      <td>6</td>\n",
              "    </tr>\n",
              "    <tr>\n",
              "      <th>4</th>\n",
              "      <td>3.2</td>\n",
              "      <td>5</td>\n",
              "    </tr>\n",
              "    <tr>\n",
              "      <th>...</th>\n",
              "      <td>...</td>\n",
              "      <td>...</td>\n",
              "    </tr>\n",
              "    <tr>\n",
              "      <th>138</th>\n",
              "      <td>13.5</td>\n",
              "      <td>4</td>\n",
              "    </tr>\n",
              "    <tr>\n",
              "      <th>139</th>\n",
              "      <td>13.5.1</td>\n",
              "      <td>0</td>\n",
              "    </tr>\n",
              "    <tr>\n",
              "      <th>140</th>\n",
              "      <td>13.6</td>\n",
              "      <td>4</td>\n",
              "    </tr>\n",
              "    <tr>\n",
              "      <th>141</th>\n",
              "      <td>13.6.1</td>\n",
              "      <td>3</td>\n",
              "    </tr>\n",
              "    <tr>\n",
              "      <th>142</th>\n",
              "      <td>13.7</td>\n",
              "      <td>0</td>\n",
              "    </tr>\n",
              "  </tbody>\n",
              "</table>\n",
              "<p>143 rows × 2 columns</p>\n",
              "</div>\n",
              "      <button class=\"colab-df-convert\" onclick=\"convertToInteractive('df-34e3e12a-9ef0-4a0b-9287-dccf10a2d264')\"\n",
              "              title=\"Convert this dataframe to an interactive table.\"\n",
              "              style=\"display:none;\">\n",
              "        \n",
              "  <svg xmlns=\"http://www.w3.org/2000/svg\" height=\"24px\"viewBox=\"0 0 24 24\"\n",
              "       width=\"24px\">\n",
              "    <path d=\"M0 0h24v24H0V0z\" fill=\"none\"/>\n",
              "    <path d=\"M18.56 5.44l.94 2.06.94-2.06 2.06-.94-2.06-.94-.94-2.06-.94 2.06-2.06.94zm-11 1L8.5 8.5l.94-2.06 2.06-.94-2.06-.94L8.5 2.5l-.94 2.06-2.06.94zm10 10l.94 2.06.94-2.06 2.06-.94-2.06-.94-.94-2.06-.94 2.06-2.06.94z\"/><path d=\"M17.41 7.96l-1.37-1.37c-.4-.4-.92-.59-1.43-.59-.52 0-1.04.2-1.43.59L10.3 9.45l-7.72 7.72c-.78.78-.78 2.05 0 2.83L4 21.41c.39.39.9.59 1.41.59.51 0 1.02-.2 1.41-.59l7.78-7.78 2.81-2.81c.8-.78.8-2.07 0-2.86zM5.41 20L4 18.59l7.72-7.72 1.47 1.35L5.41 20z\"/>\n",
              "  </svg>\n",
              "      </button>\n",
              "      \n",
              "  <style>\n",
              "    .colab-df-container {\n",
              "      display:flex;\n",
              "      flex-wrap:wrap;\n",
              "      gap: 12px;\n",
              "    }\n",
              "\n",
              "    .colab-df-convert {\n",
              "      background-color: #E8F0FE;\n",
              "      border: none;\n",
              "      border-radius: 50%;\n",
              "      cursor: pointer;\n",
              "      display: none;\n",
              "      fill: #1967D2;\n",
              "      height: 32px;\n",
              "      padding: 0 0 0 0;\n",
              "      width: 32px;\n",
              "    }\n",
              "\n",
              "    .colab-df-convert:hover {\n",
              "      background-color: #E2EBFA;\n",
              "      box-shadow: 0px 1px 2px rgba(60, 64, 67, 0.3), 0px 1px 3px 1px rgba(60, 64, 67, 0.15);\n",
              "      fill: #174EA6;\n",
              "    }\n",
              "\n",
              "    [theme=dark] .colab-df-convert {\n",
              "      background-color: #3B4455;\n",
              "      fill: #D2E3FC;\n",
              "    }\n",
              "\n",
              "    [theme=dark] .colab-df-convert:hover {\n",
              "      background-color: #434B5C;\n",
              "      box-shadow: 0px 1px 3px 1px rgba(0, 0, 0, 0.15);\n",
              "      filter: drop-shadow(0px 1px 2px rgba(0, 0, 0, 0.3));\n",
              "      fill: #FFFFFF;\n",
              "    }\n",
              "  </style>\n",
              "\n",
              "      <script>\n",
              "        const buttonEl =\n",
              "          document.querySelector('#df-34e3e12a-9ef0-4a0b-9287-dccf10a2d264 button.colab-df-convert');\n",
              "        buttonEl.style.display =\n",
              "          google.colab.kernel.accessAllowed ? 'block' : 'none';\n",
              "\n",
              "        async function convertToInteractive(key) {\n",
              "          const element = document.querySelector('#df-34e3e12a-9ef0-4a0b-9287-dccf10a2d264');\n",
              "          const dataTable =\n",
              "            await google.colab.kernel.invokeFunction('convertToInteractive',\n",
              "                                                     [key], {});\n",
              "          if (!dataTable) return;\n",
              "\n",
              "          const docLinkHtml = 'Like what you see? Visit the ' +\n",
              "            '<a target=\"_blank\" href=https://colab.research.google.com/notebooks/data_table.ipynb>data table notebook</a>'\n",
              "            + ' to learn more about interactive tables.';\n",
              "          element.innerHTML = '';\n",
              "          dataTable['output_type'] = 'display_data';\n",
              "          await google.colab.output.renderOutput(dataTable, element);\n",
              "          const docLink = document.createElement('div');\n",
              "          docLink.innerHTML = docLinkHtml;\n",
              "          element.appendChild(docLink);\n",
              "        }\n",
              "      </script>\n",
              "    </div>\n",
              "  </div>\n",
              "  "
            ]
          },
          "metadata": {},
          "execution_count": 25
        }
      ]
    },
    {
      "cell_type": "code",
      "source": [
        "import plotly.express as px\n",
        "import pandas as pd\n",
        "\n",
        "fig = px.line_polar(graph_data, r='total_bugs', theta='ios version', line_close=True)\n",
        "fig.show()"
      ],
      "metadata": {
        "colab": {
          "base_uri": "https://localhost:8080/",
          "height": 542
        },
        "id": "AlJ0lxxuvB3c",
        "outputId": "e7aa5951-fd68-4254-db5b-f90985e7703f"
      },
      "execution_count": null,
      "outputs": [
        {
          "output_type": "display_data",
          "data": {
            "text/html": [
              "<html>\n",
              "<head><meta charset=\"utf-8\" /></head>\n",
              "<body>\n",
              "    <div>            <script src=\"https://cdnjs.cloudflare.com/ajax/libs/mathjax/2.7.5/MathJax.js?config=TeX-AMS-MML_SVG\"></script><script type=\"text/javascript\">if (window.MathJax) {MathJax.Hub.Config({SVG: {font: \"STIX-Web\"}});}</script>                <script type=\"text/javascript\">window.PlotlyConfig = {MathJaxConfig: 'local'};</script>\n",
              "        <script src=\"https://cdn.plot.ly/plotly-2.8.3.min.js\"></script>                <div id=\"898cce77-5eed-42dd-844e-2b28808ec598\" class=\"plotly-graph-div\" style=\"height:525px; width:100%;\"></div>            <script type=\"text/javascript\">                                    window.PLOTLYENV=window.PLOTLYENV || {};                                    if (document.getElementById(\"898cce77-5eed-42dd-844e-2b28808ec598\")) {                    Plotly.newPlot(                        \"898cce77-5eed-42dd-844e-2b28808ec598\",                        [{\"hovertemplate\":\"total_bugs=%{r}<br>ios version=%{theta}<extra></extra>\",\"legendgroup\":\"\",\"line\":{\"color\":\"#636efa\",\"dash\":\"solid\"},\"marker\":{\"symbol\":\"circle\"},\"mode\":\"lines\",\"name\":\"\",\"r\":[8,6,4,6,5,0,0,5,6,6,4,6,5,2,6,1,1,5,4,5,5,10,0,0,0,0,0,0,0,0,0,7,0,0,3,3,0,0,4,3,3,6,2,0,5,0,0,0,5,6,5,4,5,5,5,6,5,5,5,5,5,5,0,0,0,4,0,2,0,4,0,3,0,3,5,3,5,0,8,6,6,6,7,7,7,8,0,0,0,0,0,0,5,0,4,0,5,4,5,6,2,5,0,2,3,0,0,2,0,0,0,0,0,0,0,0,0,3,5,0,0,0,0,0,0,6,4,5,5,5,6,3,0,0,5,0,4,0,4,0,4,3,0,8],\"showlegend\":false,\"subplot\":\"polar\",\"theta\":[\"3\",\"3.1\",\"3.1.2\",\"3.1.3\",\"3.2\",\"3.2.1\",\"3.2.2\",\"4\",\"4.1\",\"4.2\",\"4.2.1\",\"4.3\",\"4.3.1\",\"4.3.2\",\"4.3.3\",\"4.3.4\",\"4.3.5\",\"5\",\"5.0.1\",\"5.1\",\"5.1.1\",\"6\",\"6.0.1\",\"6.0.2\",\"6.1\",\"6.1.1\",\"6.1.2\",\"6.1.3\",\"6.1.4\",\"6.1.5\",\"6.1.6\",\"7\",\"7.0.1\",\"7.0.2\",\"7.0.3\",\"7.0.4\",\"7.0.5\",\"7.0.6\",\"7.1\",\"7.1.1\",\"7.1.2\",\"8\",\"8.0.1\",\"8.0.2\",\"8.1\",\"8.1.1\",\"8.1.2\",\"8.1.3\",\"8.2\",\"8.3\",\"8.4\",\"8.4.1\",\"9\",\"9.0.1\",\"9.0.2\",\"9.1\",\"9.2\",\"9.2.1\",\"9.3\",\"9.3.1\",\"9.3.2\",\"9.3.3\",\"9.3.4\",\"9.3.5\",\"9.3.6\",\"10\",\"10.0.1\",\"10.0.2\",\"10.0.3\",\"10.1\",\"10.1.1\",\"10.2\",\"10.2.1\",\"10.3\",\"10.3.1\",\"10.3.2\",\"10.3.3\",\"10.3.4\",\"11\",\"11.0.1\",\"11.0.2\",\"11.0.3\",\"11.1\",\"11.1.1\",\"11.1.2\",\"11.2\",\"11.2.1\",\"11.2.2\",\"11.2.3\",\"11.2.4\",\"11.2.5\",\"11.2.6\",\"11.3\",\"11.3.1\",\"11.4\",\"11.4.1\",\"12\",\"12.0.1\",\"12.1\",\"12.1.1\",\"12.1.2\",\"12.1.3\",\"12.1.4\",\"12.2\",\"12.3\",\"12.3.1\",\"12.3.2\",\"12.4\",\"12.4.1\",\"12.4.2\",\"12.4.3\",\"12.4.4\",\"12.4.5\",\"12.4.6\",\"12.4.7\",\"12.4.8\",\"12.4.9\",\"12.5\",\"12.5.1\",\"12.5.2\",\"12.5.3\",\"12.5.4\",\"12.5.5\",\"12.5.6\",\"12.5.7\",\"13\",\"13.1\",\"13.1.1\",\"13.1.2\",\"13.1.3\",\"13.2\",\"13.2.1\",\"13.2.2\",\"13.2.3\",\"13.3\",\"13.3.1\",\"13.4\",\"13.4.1\",\"13.5\",\"13.5.1\",\"13.6\",\"13.6.1\",\"13.7\",\"3\"],\"type\":\"scatterpolar\"}],                        {\"template\":{\"data\":{\"bar\":[{\"error_x\":{\"color\":\"#2a3f5f\"},\"error_y\":{\"color\":\"#2a3f5f\"},\"marker\":{\"line\":{\"color\":\"#E5ECF6\",\"width\":0.5},\"pattern\":{\"fillmode\":\"overlay\",\"size\":10,\"solidity\":0.2}},\"type\":\"bar\"}],\"barpolar\":[{\"marker\":{\"line\":{\"color\":\"#E5ECF6\",\"width\":0.5},\"pattern\":{\"fillmode\":\"overlay\",\"size\":10,\"solidity\":0.2}},\"type\":\"barpolar\"}],\"carpet\":[{\"aaxis\":{\"endlinecolor\":\"#2a3f5f\",\"gridcolor\":\"white\",\"linecolor\":\"white\",\"minorgridcolor\":\"white\",\"startlinecolor\":\"#2a3f5f\"},\"baxis\":{\"endlinecolor\":\"#2a3f5f\",\"gridcolor\":\"white\",\"linecolor\":\"white\",\"minorgridcolor\":\"white\",\"startlinecolor\":\"#2a3f5f\"},\"type\":\"carpet\"}],\"choropleth\":[{\"colorbar\":{\"outlinewidth\":0,\"ticks\":\"\"},\"type\":\"choropleth\"}],\"contour\":[{\"colorbar\":{\"outlinewidth\":0,\"ticks\":\"\"},\"colorscale\":[[0.0,\"#0d0887\"],[0.1111111111111111,\"#46039f\"],[0.2222222222222222,\"#7201a8\"],[0.3333333333333333,\"#9c179e\"],[0.4444444444444444,\"#bd3786\"],[0.5555555555555556,\"#d8576b\"],[0.6666666666666666,\"#ed7953\"],[0.7777777777777778,\"#fb9f3a\"],[0.8888888888888888,\"#fdca26\"],[1.0,\"#f0f921\"]],\"type\":\"contour\"}],\"contourcarpet\":[{\"colorbar\":{\"outlinewidth\":0,\"ticks\":\"\"},\"type\":\"contourcarpet\"}],\"heatmap\":[{\"colorbar\":{\"outlinewidth\":0,\"ticks\":\"\"},\"colorscale\":[[0.0,\"#0d0887\"],[0.1111111111111111,\"#46039f\"],[0.2222222222222222,\"#7201a8\"],[0.3333333333333333,\"#9c179e\"],[0.4444444444444444,\"#bd3786\"],[0.5555555555555556,\"#d8576b\"],[0.6666666666666666,\"#ed7953\"],[0.7777777777777778,\"#fb9f3a\"],[0.8888888888888888,\"#fdca26\"],[1.0,\"#f0f921\"]],\"type\":\"heatmap\"}],\"heatmapgl\":[{\"colorbar\":{\"outlinewidth\":0,\"ticks\":\"\"},\"colorscale\":[[0.0,\"#0d0887\"],[0.1111111111111111,\"#46039f\"],[0.2222222222222222,\"#7201a8\"],[0.3333333333333333,\"#9c179e\"],[0.4444444444444444,\"#bd3786\"],[0.5555555555555556,\"#d8576b\"],[0.6666666666666666,\"#ed7953\"],[0.7777777777777778,\"#fb9f3a\"],[0.8888888888888888,\"#fdca26\"],[1.0,\"#f0f921\"]],\"type\":\"heatmapgl\"}],\"histogram\":[{\"marker\":{\"pattern\":{\"fillmode\":\"overlay\",\"size\":10,\"solidity\":0.2}},\"type\":\"histogram\"}],\"histogram2d\":[{\"colorbar\":{\"outlinewidth\":0,\"ticks\":\"\"},\"colorscale\":[[0.0,\"#0d0887\"],[0.1111111111111111,\"#46039f\"],[0.2222222222222222,\"#7201a8\"],[0.3333333333333333,\"#9c179e\"],[0.4444444444444444,\"#bd3786\"],[0.5555555555555556,\"#d8576b\"],[0.6666666666666666,\"#ed7953\"],[0.7777777777777778,\"#fb9f3a\"],[0.8888888888888888,\"#fdca26\"],[1.0,\"#f0f921\"]],\"type\":\"histogram2d\"}],\"histogram2dcontour\":[{\"colorbar\":{\"outlinewidth\":0,\"ticks\":\"\"},\"colorscale\":[[0.0,\"#0d0887\"],[0.1111111111111111,\"#46039f\"],[0.2222222222222222,\"#7201a8\"],[0.3333333333333333,\"#9c179e\"],[0.4444444444444444,\"#bd3786\"],[0.5555555555555556,\"#d8576b\"],[0.6666666666666666,\"#ed7953\"],[0.7777777777777778,\"#fb9f3a\"],[0.8888888888888888,\"#fdca26\"],[1.0,\"#f0f921\"]],\"type\":\"histogram2dcontour\"}],\"mesh3d\":[{\"colorbar\":{\"outlinewidth\":0,\"ticks\":\"\"},\"type\":\"mesh3d\"}],\"parcoords\":[{\"line\":{\"colorbar\":{\"outlinewidth\":0,\"ticks\":\"\"}},\"type\":\"parcoords\"}],\"pie\":[{\"automargin\":true,\"type\":\"pie\"}],\"scatter\":[{\"marker\":{\"colorbar\":{\"outlinewidth\":0,\"ticks\":\"\"}},\"type\":\"scatter\"}],\"scatter3d\":[{\"line\":{\"colorbar\":{\"outlinewidth\":0,\"ticks\":\"\"}},\"marker\":{\"colorbar\":{\"outlinewidth\":0,\"ticks\":\"\"}},\"type\":\"scatter3d\"}],\"scattercarpet\":[{\"marker\":{\"colorbar\":{\"outlinewidth\":0,\"ticks\":\"\"}},\"type\":\"scattercarpet\"}],\"scattergeo\":[{\"marker\":{\"colorbar\":{\"outlinewidth\":0,\"ticks\":\"\"}},\"type\":\"scattergeo\"}],\"scattergl\":[{\"marker\":{\"colorbar\":{\"outlinewidth\":0,\"ticks\":\"\"}},\"type\":\"scattergl\"}],\"scattermapbox\":[{\"marker\":{\"colorbar\":{\"outlinewidth\":0,\"ticks\":\"\"}},\"type\":\"scattermapbox\"}],\"scatterpolar\":[{\"marker\":{\"colorbar\":{\"outlinewidth\":0,\"ticks\":\"\"}},\"type\":\"scatterpolar\"}],\"scatterpolargl\":[{\"marker\":{\"colorbar\":{\"outlinewidth\":0,\"ticks\":\"\"}},\"type\":\"scatterpolargl\"}],\"scatterternary\":[{\"marker\":{\"colorbar\":{\"outlinewidth\":0,\"ticks\":\"\"}},\"type\":\"scatterternary\"}],\"surface\":[{\"colorbar\":{\"outlinewidth\":0,\"ticks\":\"\"},\"colorscale\":[[0.0,\"#0d0887\"],[0.1111111111111111,\"#46039f\"],[0.2222222222222222,\"#7201a8\"],[0.3333333333333333,\"#9c179e\"],[0.4444444444444444,\"#bd3786\"],[0.5555555555555556,\"#d8576b\"],[0.6666666666666666,\"#ed7953\"],[0.7777777777777778,\"#fb9f3a\"],[0.8888888888888888,\"#fdca26\"],[1.0,\"#f0f921\"]],\"type\":\"surface\"}],\"table\":[{\"cells\":{\"fill\":{\"color\":\"#EBF0F8\"},\"line\":{\"color\":\"white\"}},\"header\":{\"fill\":{\"color\":\"#C8D4E3\"},\"line\":{\"color\":\"white\"}},\"type\":\"table\"}]},\"layout\":{\"annotationdefaults\":{\"arrowcolor\":\"#2a3f5f\",\"arrowhead\":0,\"arrowwidth\":1},\"autotypenumbers\":\"strict\",\"coloraxis\":{\"colorbar\":{\"outlinewidth\":0,\"ticks\":\"\"}},\"colorscale\":{\"diverging\":[[0,\"#8e0152\"],[0.1,\"#c51b7d\"],[0.2,\"#de77ae\"],[0.3,\"#f1b6da\"],[0.4,\"#fde0ef\"],[0.5,\"#f7f7f7\"],[0.6,\"#e6f5d0\"],[0.7,\"#b8e186\"],[0.8,\"#7fbc41\"],[0.9,\"#4d9221\"],[1,\"#276419\"]],\"sequential\":[[0.0,\"#0d0887\"],[0.1111111111111111,\"#46039f\"],[0.2222222222222222,\"#7201a8\"],[0.3333333333333333,\"#9c179e\"],[0.4444444444444444,\"#bd3786\"],[0.5555555555555556,\"#d8576b\"],[0.6666666666666666,\"#ed7953\"],[0.7777777777777778,\"#fb9f3a\"],[0.8888888888888888,\"#fdca26\"],[1.0,\"#f0f921\"]],\"sequentialminus\":[[0.0,\"#0d0887\"],[0.1111111111111111,\"#46039f\"],[0.2222222222222222,\"#7201a8\"],[0.3333333333333333,\"#9c179e\"],[0.4444444444444444,\"#bd3786\"],[0.5555555555555556,\"#d8576b\"],[0.6666666666666666,\"#ed7953\"],[0.7777777777777778,\"#fb9f3a\"],[0.8888888888888888,\"#fdca26\"],[1.0,\"#f0f921\"]]},\"colorway\":[\"#636efa\",\"#EF553B\",\"#00cc96\",\"#ab63fa\",\"#FFA15A\",\"#19d3f3\",\"#FF6692\",\"#B6E880\",\"#FF97FF\",\"#FECB52\"],\"font\":{\"color\":\"#2a3f5f\"},\"geo\":{\"bgcolor\":\"white\",\"lakecolor\":\"white\",\"landcolor\":\"#E5ECF6\",\"showlakes\":true,\"showland\":true,\"subunitcolor\":\"white\"},\"hoverlabel\":{\"align\":\"left\"},\"hovermode\":\"closest\",\"mapbox\":{\"style\":\"light\"},\"paper_bgcolor\":\"white\",\"plot_bgcolor\":\"#E5ECF6\",\"polar\":{\"angularaxis\":{\"gridcolor\":\"white\",\"linecolor\":\"white\",\"ticks\":\"\"},\"bgcolor\":\"#E5ECF6\",\"radialaxis\":{\"gridcolor\":\"white\",\"linecolor\":\"white\",\"ticks\":\"\"}},\"scene\":{\"xaxis\":{\"backgroundcolor\":\"#E5ECF6\",\"gridcolor\":\"white\",\"gridwidth\":2,\"linecolor\":\"white\",\"showbackground\":true,\"ticks\":\"\",\"zerolinecolor\":\"white\"},\"yaxis\":{\"backgroundcolor\":\"#E5ECF6\",\"gridcolor\":\"white\",\"gridwidth\":2,\"linecolor\":\"white\",\"showbackground\":true,\"ticks\":\"\",\"zerolinecolor\":\"white\"},\"zaxis\":{\"backgroundcolor\":\"#E5ECF6\",\"gridcolor\":\"white\",\"gridwidth\":2,\"linecolor\":\"white\",\"showbackground\":true,\"ticks\":\"\",\"zerolinecolor\":\"white\"}},\"shapedefaults\":{\"line\":{\"color\":\"#2a3f5f\"}},\"ternary\":{\"aaxis\":{\"gridcolor\":\"white\",\"linecolor\":\"white\",\"ticks\":\"\"},\"baxis\":{\"gridcolor\":\"white\",\"linecolor\":\"white\",\"ticks\":\"\"},\"bgcolor\":\"#E5ECF6\",\"caxis\":{\"gridcolor\":\"white\",\"linecolor\":\"white\",\"ticks\":\"\"}},\"title\":{\"x\":0.05},\"xaxis\":{\"automargin\":true,\"gridcolor\":\"white\",\"linecolor\":\"white\",\"ticks\":\"\",\"title\":{\"standoff\":15},\"zerolinecolor\":\"white\",\"zerolinewidth\":2},\"yaxis\":{\"automargin\":true,\"gridcolor\":\"white\",\"linecolor\":\"white\",\"ticks\":\"\",\"title\":{\"standoff\":15},\"zerolinecolor\":\"white\",\"zerolinewidth\":2}}},\"polar\":{\"domain\":{\"x\":[0.0,1.0],\"y\":[0.0,1.0]},\"angularaxis\":{\"direction\":\"clockwise\",\"rotation\":90}},\"legend\":{\"tracegroupgap\":0},\"margin\":{\"t\":60}},                        {\"responsive\": true}                    ).then(function(){\n",
              "                            \n",
              "var gd = document.getElementById('898cce77-5eed-42dd-844e-2b28808ec598');\n",
              "var x = new MutationObserver(function (mutations, observer) {{\n",
              "        var display = window.getComputedStyle(gd).display;\n",
              "        if (!display || display === 'none') {{\n",
              "            console.log([gd, 'removed!']);\n",
              "            Plotly.purge(gd);\n",
              "            observer.disconnect();\n",
              "        }}\n",
              "}});\n",
              "\n",
              "// Listen for the removal of the full notebook cells\n",
              "var notebookContainer = gd.closest('#notebook-container');\n",
              "if (notebookContainer) {{\n",
              "    x.observe(notebookContainer, {childList: true});\n",
              "}}\n",
              "\n",
              "// Listen for the clearing of the current output cell\n",
              "var outputEl = gd.closest('.output');\n",
              "if (outputEl) {{\n",
              "    x.observe(outputEl, {childList: true});\n",
              "}}\n",
              "\n",
              "                        })                };                            </script>        </div>\n",
              "</body>\n",
              "</html>"
            ]
          },
          "metadata": {}
        }
      ]
    },
    {
      "cell_type": "code",
      "source": [
        "import numpy as np\n",
        "import matplotlib.pyplot as plt\n",
        "\n",
        "plt.figure(figsize =(100, 7))\n",
        "plt.bar(graph_data['ios version'], graph_data['total_bugs'])"
      ],
      "metadata": {
        "colab": {
          "base_uri": "https://localhost:8080/",
          "height": 117
        },
        "id": "3y9171QWfifs",
        "outputId": "cd2890d7-013b-4bd2-d5f9-10462d7f558c"
      },
      "execution_count": null,
      "outputs": [
        {
          "output_type": "execute_result",
          "data": {
            "text/plain": [
              "<BarContainer object of 143 artists>"
            ]
          },
          "metadata": {},
          "execution_count": 27
        },
        {
          "output_type": "display_data",
          "data": {
            "text/plain": [
              "<Figure size 7200x504 with 1 Axes>"
            ],
            "image/png": "[encoded data removed]"
          },
          "metadata": {
            "needs_background": "light"
          }
        }
      ]
    },
    {
      "cell_type": "code",
      "source": [
        "import numpy as np\n",
        "np.corrcoef(mydataset_without_null['slow performence'], mydataset_without_null['ios_version'])"
      ],
      "metadata": {
        "colab": {
          "base_uri": "https://localhost:8080/"
        },
        "id": "DOp_a0lWywBR",
        "outputId": "424a00ec-82d6-40be-c701-35027e4582ca"
      },
      "execution_count": null,
      "outputs": [
        {
          "output_type": "execute_result",
          "data": {
            "text/plain": [
              "array([[ 1.        , -0.07424908],\n",
              "       [-0.07424908,  1.        ]])"
            ]
          },
          "metadata": {},
          "execution_count": 19
        }
      ]
    },
    {
      "cell_type": "code",
      "source": [
        "import numpy as np\n",
        "np.corrcoef(mydataset_without_null['Battery'], mydataset_without_null['slow performence'])"
      ],
      "metadata": {
        "colab": {
          "base_uri": "https://localhost:8080/"
        },
        "id": "c8W6j71X9dji",
        "outputId": "56aea89a-d1cc-4618-d178-bdd544b90637"
      },
      "execution_count": null,
      "outputs": [
        {
          "output_type": "execute_result",
          "data": {
            "text/plain": [
              "array([[1.        , 0.23481627],\n",
              "       [0.23481627, 1.        ]])"
            ]
          },
          "metadata": {},
          "execution_count": 20
        }
      ]
    },
    {
      "cell_type": "code",
      "source": [
        "import numpy as np\n",
        "np.corrcoef(mydataset_without_null['ios_version'], mydataset_without_null['Battery'])"
      ],
      "metadata": {
        "colab": {
          "base_uri": "https://localhost:8080/"
        },
        "id": "eHj3bQPs9oXU",
        "outputId": "cf7b15a4-a875-41db-fd82-aa1edc8681c0"
      },
      "execution_count": null,
      "outputs": [
        {
          "output_type": "execute_result",
          "data": {
            "text/plain": [
              "array([[ 1.        , -0.14132672],\n",
              "       [-0.14132672,  1.        ]])"
            ]
          },
          "metadata": {},
          "execution_count": 21
        }
      ]
    },
    {
      "cell_type": "code",
      "source": [
        "import numpy as np\n",
        "np.corrcoef(mydataset_without_null['slow performence'], mydataset_without_null['Battery'])"
      ],
      "metadata": {
        "colab": {
          "base_uri": "https://localhost:8080/"
        },
        "id": "HxiysDFpuUES",
        "outputId": "76491775-d2ef-41d3-ed3a-4b98c9385e65"
      },
      "execution_count": null,
      "outputs": [
        {
          "output_type": "execute_result",
          "data": {
            "text/plain": [
              "array([[1.        , 0.23481627],\n",
              "       [0.23481627, 1.        ]])"
            ]
          },
          "metadata": {},
          "execution_count": 22
        }
      ]
    },
    {
      "cell_type": "code",
      "source": [
        "from scipy.stats import pearsonr\n",
        "\n",
        "pearsonr(mydataset_without_null['ios_version'], mydataset_without_null['slow performence'])\n"
      ],
      "metadata": {
        "colab": {
          "base_uri": "https://localhost:8080/"
        },
        "id": "kN3w9EBozxZk",
        "outputId": "b344a7db-163c-41e9-c13a-42b65e5482f8"
      },
      "execution_count": null,
      "outputs": [
        {
          "output_type": "execute_result",
          "data": {
            "text/plain": [
              "PearsonRResult(statistic=-0.07424908343707817, pvalue=0.3781476065076909)"
            ]
          },
          "metadata": {},
          "execution_count": 23
        }
      ]
    },
    {
      "cell_type": "code",
      "source": [
        "from scipy.stats import pearsonr\n",
        "\n",
        "pearsonr(mydataset_without_null['Battery'], mydataset_without_null['slow performence'])\n"
      ],
      "metadata": {
        "colab": {
          "base_uri": "https://localhost:8080/"
        },
        "id": "4AhbySCD9-O-",
        "outputId": "f96a308d-2ebc-45bb-afa2-a0e1ca93f9d2"
      },
      "execution_count": null,
      "outputs": [
        {
          "output_type": "execute_result",
          "data": {
            "text/plain": [
              "PearsonRResult(statistic=0.2348162704561539, pvalue=0.004758682138916357)"
            ]
          },
          "metadata": {},
          "execution_count": 24
        }
      ]
    },
    {
      "cell_type": "code",
      "source": [
        "from scipy.stats import pearsonr\n",
        "\n",
        "pearsonr(mydataset_without_null['Battery'], mydataset_without_null['ios_version'])\n"
      ],
      "metadata": {
        "colab": {
          "base_uri": "https://localhost:8080/"
        },
        "id": "yYU0XMfj-D6A",
        "outputId": "74ffda58-ad14-4af0-9c0d-310252bea007"
      },
      "execution_count": null,
      "outputs": [
        {
          "output_type": "execute_result",
          "data": {
            "text/plain": [
              "PearsonRResult(statistic=-0.14132671648423842, pvalue=0.09224923659602957)"
            ]
          },
          "metadata": {},
          "execution_count": 25
        }
      ]
    }
  ]
}